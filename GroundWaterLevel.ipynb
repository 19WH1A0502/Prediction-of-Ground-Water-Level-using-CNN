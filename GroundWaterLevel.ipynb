{
 "cells": [
  {
   "cell_type": "code",
   "execution_count": 1,
   "id": "677a509f",
   "metadata": {},
   "outputs": [],
   "source": [
    "import warnings\n",
    "warnings.filterwarnings('ignore')\n",
    "import pandas as pd\n",
    "import numpy as np\n",
    "import matplotlib.pyplot as plt\n",
    "import seaborn as sns\n",
    "from sklearn.model_selection import train_test_split\n",
    "from sklearn.metrics import accuracy_score,classification_report"
   ]
  },
  {
   "cell_type": "code",
   "execution_count": null,
   "id": "2c8ba173",
   "metadata": {
    "scrolled": true
   },
   "outputs": [],
   "source": [
    "df=pd.read_excel('water_dataset.xlsx')\n",
    "df"
   ]
  },
  {
   "cell_type": "code",
   "execution_count": null,
   "id": "23553be6",
   "metadata": {},
   "outputs": [],
   "source": [
    "df.head(10)"
   ]
  },
  {
   "cell_type": "code",
   "execution_count": null,
   "id": "b2147a3f",
   "metadata": {},
   "outputs": [],
   "source": [
    "df.tail()"
   ]
  },
  {
   "cell_type": "code",
   "execution_count": null,
   "id": "ce399215",
   "metadata": {},
   "outputs": [],
   "source": [
    "df.info()"
   ]
  },
  {
   "cell_type": "code",
   "execution_count": null,
   "id": "5ce83bc1",
   "metadata": {},
   "outputs": [],
   "source": [
    "df.isnull()"
   ]
  },
  {
   "cell_type": "code",
   "execution_count": null,
   "id": "aa19ce0e",
   "metadata": {},
   "outputs": [],
   "source": [
    "df.info()"
   ]
  },
  {
   "cell_type": "code",
   "execution_count": null,
   "id": "35ba7d4f",
   "metadata": {},
   "outputs": [],
   "source": [
    "df.isnull().sum()"
   ]
  },
  {
   "cell_type": "code",
   "execution_count": null,
   "id": "20fc83f1",
   "metadata": {},
   "outputs": [],
   "source": [
    "df.shape"
   ]
  },
  {
   "cell_type": "code",
   "execution_count": null,
   "id": "4ff64a5c",
   "metadata": {},
   "outputs": [],
   "source": [
    "df1=df.drop(['Date'], axis=1)\n",
    "df2=df1.drop(['lat'], axis=1)\n",
    "df3=df2.drop(['long'], axis=1)\n",
    "df4=df3.drop(['value'], axis=1)"
   ]
  },
  {
   "cell_type": "code",
   "execution_count": null,
   "id": "249b2c18",
   "metadata": {},
   "outputs": [],
   "source": [
    "df4"
   ]
  },
  {
   "cell_type": "code",
   "execution_count": null,
   "id": "517c4d42",
   "metadata": {},
   "outputs": [],
   "source": [
    "from sklearn import preprocessing"
   ]
  },
  {
   "cell_type": "code",
   "execution_count": null,
   "id": "dbaafd82",
   "metadata": {},
   "outputs": [],
   "source": [
    "lab=preprocessing.LabelEncoder()"
   ]
  },
  {
   "cell_type": "code",
   "execution_count": null,
   "id": "0b0354ad",
   "metadata": {},
   "outputs": [],
   "source": [
    "df4['District']=lab.fit_transform(df4['District'])\n",
    "df4['Mandal']=lab.fit_transform(df4['Mandal'])\n",
    "df4['village']=lab.fit_transform(df4['village'])"
   ]
  },
  {
   "cell_type": "code",
   "execution_count": null,
   "id": "a5017cf5",
   "metadata": {},
   "outputs": [],
   "source": [
    "df4.dropna(inplace=True)"
   ]
  },
  {
   "cell_type": "code",
   "execution_count": null,
   "id": "fad5e19e",
   "metadata": {},
   "outputs": [],
   "source": [
    "df4.info()"
   ]
  },
  {
   "cell_type": "code",
   "execution_count": null,
   "id": "1d1ce6e8",
   "metadata": {},
   "outputs": [],
   "source": [
    "X = df4.iloc[:,df4.columns!='village'] \n",
    "y = df4.iloc[:,df4.columns=='village']"
   ]
  },
  {
   "cell_type": "code",
   "execution_count": null,
   "id": "d95abc12",
   "metadata": {},
   "outputs": [],
   "source": [
    "X"
   ]
  },
  {
   "cell_type": "code",
   "execution_count": null,
   "id": "dda3579d",
   "metadata": {},
   "outputs": [],
   "source": [
    "y"
   ]
  },
  {
   "cell_type": "code",
   "execution_count": null,
   "id": "e4a25cb8",
   "metadata": {},
   "outputs": [],
   "source": [
    "from sklearn.model_selection import train_test_split\n",
    "from sklearn.metrics import accuracy_score"
   ]
  },
  {
   "cell_type": "code",
   "execution_count": null,
   "id": "123fe409",
   "metadata": {},
   "outputs": [],
   "source": [
    "xtrain, xtest, ytrain, ytest=train_test_split(X, y, test_size=0.33)"
   ]
  },
  {
   "cell_type": "code",
   "execution_count": null,
   "id": "078260ee",
   "metadata": {},
   "outputs": [],
   "source": [
    "from sklearn.ensemble import RandomForestClassifier"
   ]
  },
  {
   "cell_type": "code",
   "execution_count": null,
   "id": "bfedb883",
   "metadata": {},
   "outputs": [],
   "source": [
    "rf=RandomForestClassifier()"
   ]
  },
  {
   "cell_type": "code",
   "execution_count": null,
   "id": "ac6798e0",
   "metadata": {},
   "outputs": [],
   "source": [
    "rf.fit(xtrain,ytrain)"
   ]
  },
  {
   "cell_type": "code",
   "execution_count": null,
   "id": "533ecf97",
   "metadata": {},
   "outputs": [],
   "source": [
    "predic=rf.predict(xtest)"
   ]
  },
  {
   "cell_type": "code",
   "execution_count": null,
   "id": "20e6e30d",
   "metadata": {},
   "outputs": [],
   "source": [
    "acc1=accuracy_score(predic,ytest)\n",
    "acc1"
   ]
  },
  {
   "cell_type": "code",
   "execution_count": null,
   "id": "c98df7f4",
   "metadata": {},
   "outputs": [],
   "source": [
    "clf=classification_report(predic,ytest)\n",
    "print(clf)"
   ]
  },
  {
   "cell_type": "code",
   "execution_count": null,
   "id": "516b1474",
   "metadata": {},
   "outputs": [],
   "source": [
    "from sklearn import svm"
   ]
  },
  {
   "cell_type": "code",
   "execution_count": null,
   "id": "51d94362",
   "metadata": {},
   "outputs": [],
   "source": [
    "sv=svm.LinearSVC()"
   ]
  },
  {
   "cell_type": "code",
   "execution_count": null,
   "id": "040c34b5",
   "metadata": {},
   "outputs": [],
   "source": [
    "sv.fit(xtrain,ytrain)"
   ]
  },
  {
   "cell_type": "code",
   "execution_count": null,
   "id": "2633d596",
   "metadata": {},
   "outputs": [],
   "source": [
    "predic1=sv.predict(xtest)"
   ]
  },
  {
   "cell_type": "code",
   "execution_count": null,
   "id": "4034905c",
   "metadata": {},
   "outputs": [],
   "source": [
    "acc2=accuracy_score(predic1,ytest)\n",
    "acc2"
   ]
  },
  {
   "cell_type": "code",
   "execution_count": null,
   "id": "fc174efa",
   "metadata": {},
   "outputs": [],
   "source": [
    "clf1=classification_report(predic1,ytest)\n",
    "print(clf1)"
   ]
  },
  {
   "cell_type": "code",
   "execution_count": null,
   "id": "1ebb7275",
   "metadata": {},
   "outputs": [],
   "source": [
    "from sklearn.linear_model import LinearRegression\n",
    "from sklearn.metrics import r2_score\n",
    "lin_reg = LinearRegression()\n",
    "lin_reg.fit(xtrain, ytrain)\n",
    "Y_pred_lin_reg = lin_reg.predict(xtest)\n",
    "print(Y_pred_lin_reg)\n",
    "r1=r2_score(ytest, Y_pred_lin_reg)\n",
    "print(\"R2 score:\", r2_score(ytest, Y_pred_lin_reg))"
   ]
  },
  {
   "cell_type": "code",
   "execution_count": null,
   "id": "45e8474a",
   "metadata": {},
   "outputs": [],
   "source": [
    "!pip install tpot"
   ]
  },
  {
   "cell_type": "code",
   "execution_count": null,
   "id": "2aeba855",
   "metadata": {},
   "outputs": [],
   "source": [
    "from tpot import TPOTClassifier\n",
    "from sklearn.datasets import load_iris\n",
    "from sklearn.model_selection import train_test_split\n",
    "\n",
    "import warnings\n",
    "warnings.filterwarnings('ignore')"
   ]
  },
  {
   "cell_type": "code",
   "execution_count": null,
   "id": "2e2cb7dc",
   "metadata": {},
   "outputs": [],
   "source": [
    "iris = load_iris()\n",
    "iris.data[0:5], iris.target\n",
    "X = iris.data \n",
    "target = iris.target \n",
    "names = iris.target_names"
   ]
  },
  {
   "cell_type": "code",
   "execution_count": null,
   "id": "93c4a193",
   "metadata": {},
   "outputs": [],
   "source": [
    "target\n"
   ]
  },
  {
   "cell_type": "code",
   "execution_count": null,
   "id": "6333d2f6",
   "metadata": {},
   "outputs": [],
   "source": [
    "X"
   ]
  },
  {
   "cell_type": "code",
   "execution_count": null,
   "id": "1557d72f",
   "metadata": {},
   "outputs": [],
   "source": [
    "X_train, X_test, y_train, y_test = train_test_split(iris.data, iris.target,\n",
    "                                                    train_size=0.75, test_size=0.25)\n",
    "X_train.shape, X_test.shape, y_train.shape, y_test.shape"
   ]
  },
  {
   "cell_type": "code",
   "execution_count": null,
   "id": "9ed2416c",
   "metadata": {},
   "outputs": [],
   "source": [
    "tpot = TPOTClassifier(verbosity=2, max_time_mins=10)\n",
    "tpot.fit(X_train, y_train)\n",
    "print(tpot.score(X_test, y_test))"
   ]
  },
  {
   "cell_type": "code",
   "execution_count": null,
   "id": "ecfb4001",
   "metadata": {},
   "outputs": [],
   "source": [
    "tpot.fitted_pipeline_"
   ]
  },
  {
   "cell_type": "code",
   "execution_count": null,
   "id": "08aff7a9",
   "metadata": {},
   "outputs": [],
   "source": [
    "print(tpot.score(X_test, y_test))"
   ]
  },
  {
   "cell_type": "code",
   "execution_count": null,
   "id": "69a081f5",
   "metadata": {},
   "outputs": [],
   "source": [
    "import matplotlib.pyplot as plt; plt.rcdefaults()\n",
    "\n",
    "objects = ('Random Forest','Linear Regression','logestic regression','gentic algo')\n",
    "y_pos = np.arange(len(objects))\n",
    "performance = [0.7225,0.4758,0.8500,0.9700]\n",
    "\n",
    "plt.bar(y_pos, performance, align='center', alpha=0.5)\n",
    "plt.xticks(y_pos, objects)\n",
    "plt.ylabel('Accuracy')\n",
    "plt.title('RF vs LR vs LR vs GENTIC')\n",
    "\n",
    "plt.show()"
   ]
  },
  {
   "cell_type": "code",
   "execution_count": null,
   "id": "b84b5282",
   "metadata": {},
   "outputs": [],
   "source": [
    "test_vector = np.reshape(np.asarray([15,1,1,2,1,0,0,4]),(1,4)\n",
    "p = int(rf.predict(test_vector)[0]\n",
    "#no=0,yes=1\n",
    "p"
   ]
  }
 ],
 "metadata": {
  "kernelspec": {
   "display_name": "Python 3 (ipykernel)",
   "language": "python",
   "name": "python3"
  },
  "language_info": {
   "codemirror_mode": {
    "name": "ipython",
    "version": 3
   },
   "file_extension": ".py",
   "mimetype": "text/x-python",
   "name": "python",
   "nbconvert_exporter": "python",
   "pygments_lexer": "ipython3",
   "version": "3.9.13"
  }
 },
 "nbformat": 4,
 "nbformat_minor": 5
}
